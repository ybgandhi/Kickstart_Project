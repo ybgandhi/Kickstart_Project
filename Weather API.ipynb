{
 "cells": [
  {
   "cell_type": "code",
   "execution_count": null,
   "id": "9f6eecc0",
   "metadata": {},
   "outputs": [],
   "source": [
    "import requests\n",
    "import pandas as pd"
   ]
  },
  {
   "cell_type": "code",
   "execution_count": null,
   "id": "45948d50",
   "metadata": {},
   "outputs": [],
   "source": [
    "# http://api.worldweatheronline.com/premium/v1/past-weather.ashx?key=6f2d4be584aa413f9df230512210306&q=45.53,87.38&date=2008-09-08&tp=1&format=json\n",
    "# above is example"
   ]
  },
  {
   "cell_type": "code",
   "execution_count": null,
   "id": "059cc13d",
   "metadata": {},
   "outputs": [],
   "source": [
    "#import cleaned NFL schedule\n",
    "schedule_csv = \"NFL_Schedule.csv\"\n",
    "\n",
    "schedule = pd.read_csv(schedule_csv)\n",
    "schedule.head()"
   ]
  },
  {
   "cell_type": "code",
   "execution_count": null,
   "id": "74cba589",
   "metadata": {},
   "outputs": [],
   "source": [
    "#import cleaned NFL Stadium Locations\n",
    "locations_csv = \"NFL_Locations.csv\"\n",
    "\n",
    "new_df = pd.read_csv(locations_csv)\n",
    "new_df"
   ]
  },
  {
   "cell_type": "code",
   "execution_count": null,
   "id": "d29314eb",
   "metadata": {},
   "outputs": [],
   "source": [
    "locations = new_df.drop([new_df.index[3],new_df.index[9],new_df.index[20],new_df.index[19],new_df.index[17],new_df.index[11],new_df.index[12]])\n",
    "locations = locations.reset_index()\n",
    "locations = locations[[\"Franchise\",\"Latitude\",\"Longitude\"]]\n",
    "locations.replace(to_replace=\"New York Jets\", value=\"New York\")\n",
    "locations.replace(to_replace=\"Saint Louis\", value=\"St. Louis\")"
   ]
  },
  {
   "cell_type": "code",
   "execution_count": null,
   "id": "c375fb46",
   "metadata": {},
   "outputs": [],
   "source": [
    "a = schedule[\"City\"].unique()\n",
    "print(a)"
   ]
  },
  {
   "cell_type": "code",
   "execution_count": null,
   "id": "a17a4a1e",
   "metadata": {},
   "outputs": [],
   "source": []
  },
  {
   "cell_type": "code",
   "execution_count": null,
   "id": "b03f09a8",
   "metadata": {},
   "outputs": [],
   "source": []
  }
 ],
 "metadata": {
  "kernelspec": {
   "display_name": "Python 3",
   "language": "python",
   "name": "python3"
  },
  "language_info": {
   "codemirror_mode": {
    "name": "ipython",
    "version": 3
   },
   "file_extension": ".py",
   "mimetype": "text/x-python",
   "name": "python",
   "nbconvert_exporter": "python",
   "pygments_lexer": "ipython3",
   "version": "3.8.8"
  }
 },
 "nbformat": 4,
 "nbformat_minor": 5
}
