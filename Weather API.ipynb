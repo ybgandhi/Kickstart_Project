{
 "cells": [
  {
   "cell_type": "code",
   "execution_count": 2,
   "id": "9f6eecc0",
   "metadata": {},
   "outputs": [],
   "source": [
    "import requests\n",
    "import pandas as pd"
   ]
  },
  {
   "cell_type": "code",
   "execution_count": 3,
   "id": "45948d50",
   "metadata": {},
   "outputs": [],
   "source": [
    "# http://api.worldweatheronline.com/premium/v1/past-weather.ashx?key=6f2d4be584aa413f9df230512210306&q=45.53,87.38&date=2008-09-08&tp=1&format=json\n",
    "# above is example"
   ]
  },
  {
   "cell_type": "code",
   "execution_count": 5,
   "id": "ccb2f311",
   "metadata": {},
   "outputs": [
    {
     "data": {
      "text/html": [
       "<div>\n",
       "<style scoped>\n",
       "    .dataframe tbody tr th:only-of-type {\n",
       "        vertical-align: middle;\n",
       "    }\n",
       "\n",
       "    .dataframe tbody tr th {\n",
       "        vertical-align: top;\n",
       "    }\n",
       "\n",
       "    .dataframe thead th {\n",
       "        text-align: right;\n",
       "    }\n",
       "</style>\n",
       "<table border=\"1\" class=\"dataframe\">\n",
       "  <thead>\n",
       "    <tr style=\"text-align: right;\">\n",
       "      <th></th>\n",
       "      <th>Full Date</th>\n",
       "      <th>New Time</th>\n",
       "      <th>Week</th>\n",
       "      <th>City</th>\n",
       "      <th>Home Team</th>\n",
       "      <th>Winner</th>\n",
       "    </tr>\n",
       "  </thead>\n",
       "  <tbody>\n",
       "    <tr>\n",
       "      <th>0</th>\n",
       "      <td>2008-09-04</td>\n",
       "      <td>7</td>\n",
       "      <td>1</td>\n",
       "      <td>New York</td>\n",
       "      <td>Giants</td>\n",
       "      <td>Giants</td>\n",
       "    </tr>\n",
       "    <tr>\n",
       "      <th>1</th>\n",
       "      <td>2008-09-07</td>\n",
       "      <td>1</td>\n",
       "      <td>1</td>\n",
       "      <td>Philadelphia</td>\n",
       "      <td>Eagles</td>\n",
       "      <td>Eagles</td>\n",
       "    </tr>\n",
       "    <tr>\n",
       "      <th>2</th>\n",
       "      <td>2008-09-07</td>\n",
       "      <td>1</td>\n",
       "      <td>1</td>\n",
       "      <td>Miami</td>\n",
       "      <td>Dolphins</td>\n",
       "      <td>Jets</td>\n",
       "    </tr>\n",
       "    <tr>\n",
       "      <th>3</th>\n",
       "      <td>2008-09-07</td>\n",
       "      <td>1</td>\n",
       "      <td>1</td>\n",
       "      <td>New England</td>\n",
       "      <td>Patriots</td>\n",
       "      <td>Patriots</td>\n",
       "    </tr>\n",
       "    <tr>\n",
       "      <th>4</th>\n",
       "      <td>2008-09-07</td>\n",
       "      <td>1</td>\n",
       "      <td>1</td>\n",
       "      <td>Pittsburgh</td>\n",
       "      <td>Steelers</td>\n",
       "      <td>Steelers</td>\n",
       "    </tr>\n",
       "  </tbody>\n",
       "</table>\n",
       "</div>"
      ],
      "text/plain": [
       "    Full Date  New Time Week          City Home Team    Winner\n",
       "0  2008-09-04         7    1      New York    Giants    Giants\n",
       "1  2008-09-07         1    1  Philadelphia    Eagles    Eagles\n",
       "2  2008-09-07         1    1         Miami  Dolphins      Jets\n",
       "3  2008-09-07         1    1   New England  Patriots  Patriots\n",
       "4  2008-09-07         1    1    Pittsburgh  Steelers  Steelers"
      ]
     },
     "execution_count": 5,
     "metadata": {},
     "output_type": "execute_result"
    }
   ],
   "source": [
    "#import cleaned NFL schedule\n",
    "schedule_csv = \"NFL_Schedule.csv\"\n",
    "\n",
    "schedule = pd.read_csv(schedule_csv)\n",
    "schedule.head()"
   ]
  },
  {
   "cell_type": "code",
   "execution_count": null,
   "id": "f283df92",
   "metadata": {},
   "outputs": [],
   "source": []
  },
  {
   "cell_type": "code",
   "execution_count": null,
   "id": "9f424b45",
   "metadata": {},
   "outputs": [],
   "source": []
  }
 ],
 "metadata": {
  "kernelspec": {
   "display_name": "Python 3",
   "language": "python",
   "name": "python3"
  },
  "language_info": {
   "codemirror_mode": {
    "name": "ipython",
    "version": 3
   },
   "file_extension": ".py",
   "mimetype": "text/x-python",
   "name": "python",
   "nbconvert_exporter": "python",
   "pygments_lexer": "ipython3",
   "version": "3.8.8"
  }
 },
 "nbformat": 4,
 "nbformat_minor": 5
}
