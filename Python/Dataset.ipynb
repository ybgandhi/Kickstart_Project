{
 "cells": [
  {
   "cell_type": "code",
   "execution_count": 1,
   "id": "2fb4e27f",
   "metadata": {},
   "outputs": [],
   "source": [
    "#filled_locations = empty_locations\n",
    "#filled_locations"
   ]
  },
  {
   "cell_type": "code",
   "execution_count": 2,
   "id": "588929f6",
   "metadata": {},
   "outputs": [],
   "source": [
    "#empty_locations[\"Latitude\"] = empty_locations[\"Latitude\"].fillna(27.57)\n",
    "#empty_locations[\"Longitude\"] = empty_locations[\"Longitude\"].fillna(-82.27)\n"
   ]
  },
  {
   "cell_type": "code",
   "execution_count": 3,
   "id": "a7e307a8",
   "metadata": {},
   "outputs": [],
   "source": [
    "import pandas as pd\n",
    "import requests\n",
    "from pprint import pprint\n",
    "import time as T\n",
    "from datetime import datetime\n",
    "import pymongo\n",
    "import json"
   ]
  },
  {
   "cell_type": "code",
   "execution_count": 4,
   "id": "6df88002",
   "metadata": {},
   "outputs": [],
   "source": [
    "#table_1 = pd.read_csv(\"Table 1.csv\")\n",
    "#table_2 = pd.read_csv(\"Table 2.csv\")\n",
    "#table_3 = pd.read_csv(\"Table 3.csv\")\n",
    "#table_4 = pd.read_csv(\"Table 4.csv\")\n",
    "#table_5 = pd.read_csv(\"Table 5.csv\")\n",
    "#table_6 = pd.read_csv(\"Table 6.csv\")"
   ]
  },
  {
   "cell_type": "code",
   "execution_count": 10,
   "id": "6825d52b",
   "metadata": {},
   "outputs": [
    {
     "ename": "FileNotFoundError",
     "evalue": "[Errno 2] No such file or directory: 'Table 2.csv'",
     "output_type": "error",
     "traceback": [
      "\u001b[0;31m---------------------------------------------------------------------------\u001b[0m",
      "\u001b[0;31mFileNotFoundError\u001b[0m                         Traceback (most recent call last)",
      "\u001b[0;32m<ipython-input-10-a22bc09448c4>\u001b[0m in \u001b[0;36m<module>\u001b[0;34m\u001b[0m\n\u001b[1;32m      1\u001b[0m \u001b[0mtable_1\u001b[0m \u001b[0;34m=\u001b[0m \u001b[0mpd\u001b[0m\u001b[0;34m.\u001b[0m\u001b[0mread_csv\u001b[0m\u001b[0;34m(\u001b[0m\u001b[0;34m\"exports/Table 1.csv\"\u001b[0m\u001b[0;34m,\u001b[0m \u001b[0mparse_dates\u001b[0m \u001b[0;34m=\u001b[0m \u001b[0;34m[\u001b[0m\u001b[0;36m0\u001b[0m\u001b[0;34m]\u001b[0m\u001b[0;34m)\u001b[0m\u001b[0;34m\u001b[0m\u001b[0;34m\u001b[0m\u001b[0m\n\u001b[0;32m----> 2\u001b[0;31m \u001b[0mtable_2\u001b[0m \u001b[0;34m=\u001b[0m \u001b[0mpd\u001b[0m\u001b[0;34m.\u001b[0m\u001b[0mread_csv\u001b[0m\u001b[0;34m(\u001b[0m\u001b[0;34m\"Table 2.csv\"\u001b[0m\u001b[0;34m,\u001b[0m \u001b[0mparse_dates\u001b[0m \u001b[0;34m=\u001b[0m \u001b[0;34m[\u001b[0m\u001b[0;36m0\u001b[0m\u001b[0;34m]\u001b[0m\u001b[0;34m)\u001b[0m\u001b[0;34m\u001b[0m\u001b[0;34m\u001b[0m\u001b[0m\n\u001b[0m\u001b[1;32m      3\u001b[0m \u001b[0mtable_3\u001b[0m \u001b[0;34m=\u001b[0m \u001b[0mpd\u001b[0m\u001b[0;34m.\u001b[0m\u001b[0mread_csv\u001b[0m\u001b[0;34m(\u001b[0m\u001b[0;34m\"Table 3.csv\"\u001b[0m\u001b[0;34m,\u001b[0m \u001b[0mparse_dates\u001b[0m \u001b[0;34m=\u001b[0m \u001b[0;34m[\u001b[0m\u001b[0;36m0\u001b[0m\u001b[0;34m]\u001b[0m\u001b[0;34m)\u001b[0m\u001b[0;34m\u001b[0m\u001b[0;34m\u001b[0m\u001b[0m\n\u001b[1;32m      4\u001b[0m \u001b[0mtable_4\u001b[0m \u001b[0;34m=\u001b[0m \u001b[0mpd\u001b[0m\u001b[0;34m.\u001b[0m\u001b[0mread_csv\u001b[0m\u001b[0;34m(\u001b[0m\u001b[0;34m\"Table 4.csv\"\u001b[0m\u001b[0;34m,\u001b[0m \u001b[0mparse_dates\u001b[0m \u001b[0;34m=\u001b[0m \u001b[0;34m[\u001b[0m\u001b[0;36m0\u001b[0m\u001b[0;34m]\u001b[0m\u001b[0;34m)\u001b[0m\u001b[0;34m\u001b[0m\u001b[0;34m\u001b[0m\u001b[0m\n\u001b[1;32m      5\u001b[0m \u001b[0mtable_5\u001b[0m \u001b[0;34m=\u001b[0m \u001b[0mpd\u001b[0m\u001b[0;34m.\u001b[0m\u001b[0mread_csv\u001b[0m\u001b[0;34m(\u001b[0m\u001b[0;34m\"Table 5.csv\"\u001b[0m\u001b[0;34m,\u001b[0m \u001b[0mparse_dates\u001b[0m \u001b[0;34m=\u001b[0m \u001b[0;34m[\u001b[0m\u001b[0;36m0\u001b[0m\u001b[0;34m]\u001b[0m\u001b[0;34m)\u001b[0m\u001b[0;34m\u001b[0m\u001b[0;34m\u001b[0m\u001b[0m\n",
      "\u001b[0;32m/Applications/anaconda3/lib/python3.8/site-packages/pandas/io/parsers.py\u001b[0m in \u001b[0;36mread_csv\u001b[0;34m(filepath_or_buffer, sep, delimiter, header, names, index_col, usecols, squeeze, prefix, mangle_dupe_cols, dtype, engine, converters, true_values, false_values, skipinitialspace, skiprows, skipfooter, nrows, na_values, keep_default_na, na_filter, verbose, skip_blank_lines, parse_dates, infer_datetime_format, keep_date_col, date_parser, dayfirst, cache_dates, iterator, chunksize, compression, thousands, decimal, lineterminator, quotechar, quoting, doublequote, escapechar, comment, encoding, dialect, error_bad_lines, warn_bad_lines, delim_whitespace, low_memory, memory_map, float_precision, storage_options)\u001b[0m\n\u001b[1;32m    608\u001b[0m     \u001b[0mkwds\u001b[0m\u001b[0;34m.\u001b[0m\u001b[0mupdate\u001b[0m\u001b[0;34m(\u001b[0m\u001b[0mkwds_defaults\u001b[0m\u001b[0;34m)\u001b[0m\u001b[0;34m\u001b[0m\u001b[0;34m\u001b[0m\u001b[0m\n\u001b[1;32m    609\u001b[0m \u001b[0;34m\u001b[0m\u001b[0m\n\u001b[0;32m--> 610\u001b[0;31m     \u001b[0;32mreturn\u001b[0m \u001b[0m_read\u001b[0m\u001b[0;34m(\u001b[0m\u001b[0mfilepath_or_buffer\u001b[0m\u001b[0;34m,\u001b[0m \u001b[0mkwds\u001b[0m\u001b[0;34m)\u001b[0m\u001b[0;34m\u001b[0m\u001b[0;34m\u001b[0m\u001b[0m\n\u001b[0m\u001b[1;32m    611\u001b[0m \u001b[0;34m\u001b[0m\u001b[0m\n\u001b[1;32m    612\u001b[0m \u001b[0;34m\u001b[0m\u001b[0m\n",
      "\u001b[0;32m/Applications/anaconda3/lib/python3.8/site-packages/pandas/io/parsers.py\u001b[0m in \u001b[0;36m_read\u001b[0;34m(filepath_or_buffer, kwds)\u001b[0m\n\u001b[1;32m    460\u001b[0m \u001b[0;34m\u001b[0m\u001b[0m\n\u001b[1;32m    461\u001b[0m     \u001b[0;31m# Create the parser.\u001b[0m\u001b[0;34m\u001b[0m\u001b[0;34m\u001b[0m\u001b[0;34m\u001b[0m\u001b[0m\n\u001b[0;32m--> 462\u001b[0;31m     \u001b[0mparser\u001b[0m \u001b[0;34m=\u001b[0m \u001b[0mTextFileReader\u001b[0m\u001b[0;34m(\u001b[0m\u001b[0mfilepath_or_buffer\u001b[0m\u001b[0;34m,\u001b[0m \u001b[0;34m**\u001b[0m\u001b[0mkwds\u001b[0m\u001b[0;34m)\u001b[0m\u001b[0;34m\u001b[0m\u001b[0;34m\u001b[0m\u001b[0m\n\u001b[0m\u001b[1;32m    463\u001b[0m \u001b[0;34m\u001b[0m\u001b[0m\n\u001b[1;32m    464\u001b[0m     \u001b[0;32mif\u001b[0m \u001b[0mchunksize\u001b[0m \u001b[0;32mor\u001b[0m \u001b[0miterator\u001b[0m\u001b[0;34m:\u001b[0m\u001b[0;34m\u001b[0m\u001b[0;34m\u001b[0m\u001b[0m\n",
      "\u001b[0;32m/Applications/anaconda3/lib/python3.8/site-packages/pandas/io/parsers.py\u001b[0m in \u001b[0;36m__init__\u001b[0;34m(self, f, engine, **kwds)\u001b[0m\n\u001b[1;32m    817\u001b[0m             \u001b[0mself\u001b[0m\u001b[0;34m.\u001b[0m\u001b[0moptions\u001b[0m\u001b[0;34m[\u001b[0m\u001b[0;34m\"has_index_names\"\u001b[0m\u001b[0;34m]\u001b[0m \u001b[0;34m=\u001b[0m \u001b[0mkwds\u001b[0m\u001b[0;34m[\u001b[0m\u001b[0;34m\"has_index_names\"\u001b[0m\u001b[0;34m]\u001b[0m\u001b[0;34m\u001b[0m\u001b[0;34m\u001b[0m\u001b[0m\n\u001b[1;32m    818\u001b[0m \u001b[0;34m\u001b[0m\u001b[0m\n\u001b[0;32m--> 819\u001b[0;31m         \u001b[0mself\u001b[0m\u001b[0;34m.\u001b[0m\u001b[0m_engine\u001b[0m \u001b[0;34m=\u001b[0m \u001b[0mself\u001b[0m\u001b[0;34m.\u001b[0m\u001b[0m_make_engine\u001b[0m\u001b[0;34m(\u001b[0m\u001b[0mself\u001b[0m\u001b[0;34m.\u001b[0m\u001b[0mengine\u001b[0m\u001b[0;34m)\u001b[0m\u001b[0;34m\u001b[0m\u001b[0;34m\u001b[0m\u001b[0m\n\u001b[0m\u001b[1;32m    820\u001b[0m \u001b[0;34m\u001b[0m\u001b[0m\n\u001b[1;32m    821\u001b[0m     \u001b[0;32mdef\u001b[0m \u001b[0mclose\u001b[0m\u001b[0;34m(\u001b[0m\u001b[0mself\u001b[0m\u001b[0;34m)\u001b[0m\u001b[0;34m:\u001b[0m\u001b[0;34m\u001b[0m\u001b[0;34m\u001b[0m\u001b[0m\n",
      "\u001b[0;32m/Applications/anaconda3/lib/python3.8/site-packages/pandas/io/parsers.py\u001b[0m in \u001b[0;36m_make_engine\u001b[0;34m(self, engine)\u001b[0m\n\u001b[1;32m   1048\u001b[0m             )\n\u001b[1;32m   1049\u001b[0m         \u001b[0;31m# error: Too many arguments for \"ParserBase\"\u001b[0m\u001b[0;34m\u001b[0m\u001b[0;34m\u001b[0m\u001b[0;34m\u001b[0m\u001b[0m\n\u001b[0;32m-> 1050\u001b[0;31m         \u001b[0;32mreturn\u001b[0m \u001b[0mmapping\u001b[0m\u001b[0;34m[\u001b[0m\u001b[0mengine\u001b[0m\u001b[0;34m]\u001b[0m\u001b[0;34m(\u001b[0m\u001b[0mself\u001b[0m\u001b[0;34m.\u001b[0m\u001b[0mf\u001b[0m\u001b[0;34m,\u001b[0m \u001b[0;34m**\u001b[0m\u001b[0mself\u001b[0m\u001b[0;34m.\u001b[0m\u001b[0moptions\u001b[0m\u001b[0;34m)\u001b[0m  \u001b[0;31m# type: ignore[call-arg]\u001b[0m\u001b[0;34m\u001b[0m\u001b[0;34m\u001b[0m\u001b[0m\n\u001b[0m\u001b[1;32m   1051\u001b[0m \u001b[0;34m\u001b[0m\u001b[0m\n\u001b[1;32m   1052\u001b[0m     \u001b[0;32mdef\u001b[0m \u001b[0m_failover_to_python\u001b[0m\u001b[0;34m(\u001b[0m\u001b[0mself\u001b[0m\u001b[0;34m)\u001b[0m\u001b[0;34m:\u001b[0m\u001b[0;34m\u001b[0m\u001b[0;34m\u001b[0m\u001b[0m\n",
      "\u001b[0;32m/Applications/anaconda3/lib/python3.8/site-packages/pandas/io/parsers.py\u001b[0m in \u001b[0;36m__init__\u001b[0;34m(self, src, **kwds)\u001b[0m\n\u001b[1;32m   1865\u001b[0m \u001b[0;34m\u001b[0m\u001b[0m\n\u001b[1;32m   1866\u001b[0m         \u001b[0;31m# open handles\u001b[0m\u001b[0;34m\u001b[0m\u001b[0;34m\u001b[0m\u001b[0;34m\u001b[0m\u001b[0m\n\u001b[0;32m-> 1867\u001b[0;31m         \u001b[0mself\u001b[0m\u001b[0;34m.\u001b[0m\u001b[0m_open_handles\u001b[0m\u001b[0;34m(\u001b[0m\u001b[0msrc\u001b[0m\u001b[0;34m,\u001b[0m \u001b[0mkwds\u001b[0m\u001b[0;34m)\u001b[0m\u001b[0;34m\u001b[0m\u001b[0;34m\u001b[0m\u001b[0m\n\u001b[0m\u001b[1;32m   1868\u001b[0m         \u001b[0;32massert\u001b[0m \u001b[0mself\u001b[0m\u001b[0;34m.\u001b[0m\u001b[0mhandles\u001b[0m \u001b[0;32mis\u001b[0m \u001b[0;32mnot\u001b[0m \u001b[0;32mNone\u001b[0m\u001b[0;34m\u001b[0m\u001b[0;34m\u001b[0m\u001b[0m\n\u001b[1;32m   1869\u001b[0m         \u001b[0;32mfor\u001b[0m \u001b[0mkey\u001b[0m \u001b[0;32min\u001b[0m \u001b[0;34m(\u001b[0m\u001b[0;34m\"storage_options\"\u001b[0m\u001b[0;34m,\u001b[0m \u001b[0;34m\"encoding\"\u001b[0m\u001b[0;34m,\u001b[0m \u001b[0;34m\"memory_map\"\u001b[0m\u001b[0;34m,\u001b[0m \u001b[0;34m\"compression\"\u001b[0m\u001b[0;34m)\u001b[0m\u001b[0;34m:\u001b[0m\u001b[0;34m\u001b[0m\u001b[0;34m\u001b[0m\u001b[0m\n",
      "\u001b[0;32m/Applications/anaconda3/lib/python3.8/site-packages/pandas/io/parsers.py\u001b[0m in \u001b[0;36m_open_handles\u001b[0;34m(self, src, kwds)\u001b[0m\n\u001b[1;32m   1360\u001b[0m         \u001b[0mLet\u001b[0m \u001b[0mthe\u001b[0m \u001b[0mreaders\u001b[0m \u001b[0mopen\u001b[0m \u001b[0mIOHanldes\u001b[0m \u001b[0mafter\u001b[0m \u001b[0mthey\u001b[0m \u001b[0mare\u001b[0m \u001b[0mdone\u001b[0m \u001b[0;32mwith\u001b[0m \u001b[0mtheir\u001b[0m \u001b[0mpotential\u001b[0m \u001b[0mraises\u001b[0m\u001b[0;34m.\u001b[0m\u001b[0;34m\u001b[0m\u001b[0;34m\u001b[0m\u001b[0m\n\u001b[1;32m   1361\u001b[0m         \"\"\"\n\u001b[0;32m-> 1362\u001b[0;31m         self.handles = get_handle(\n\u001b[0m\u001b[1;32m   1363\u001b[0m             \u001b[0msrc\u001b[0m\u001b[0;34m,\u001b[0m\u001b[0;34m\u001b[0m\u001b[0;34m\u001b[0m\u001b[0m\n\u001b[1;32m   1364\u001b[0m             \u001b[0;34m\"r\"\u001b[0m\u001b[0;34m,\u001b[0m\u001b[0;34m\u001b[0m\u001b[0;34m\u001b[0m\u001b[0m\n",
      "\u001b[0;32m/Applications/anaconda3/lib/python3.8/site-packages/pandas/io/common.py\u001b[0m in \u001b[0;36mget_handle\u001b[0;34m(path_or_buf, mode, encoding, compression, memory_map, is_text, errors, storage_options)\u001b[0m\n\u001b[1;32m    640\u001b[0m                 \u001b[0merrors\u001b[0m \u001b[0;34m=\u001b[0m \u001b[0;34m\"replace\"\u001b[0m\u001b[0;34m\u001b[0m\u001b[0;34m\u001b[0m\u001b[0m\n\u001b[1;32m    641\u001b[0m             \u001b[0;31m# Encoding\u001b[0m\u001b[0;34m\u001b[0m\u001b[0;34m\u001b[0m\u001b[0;34m\u001b[0m\u001b[0m\n\u001b[0;32m--> 642\u001b[0;31m             handle = open(\n\u001b[0m\u001b[1;32m    643\u001b[0m                 \u001b[0mhandle\u001b[0m\u001b[0;34m,\u001b[0m\u001b[0;34m\u001b[0m\u001b[0;34m\u001b[0m\u001b[0m\n\u001b[1;32m    644\u001b[0m                 \u001b[0mioargs\u001b[0m\u001b[0;34m.\u001b[0m\u001b[0mmode\u001b[0m\u001b[0;34m,\u001b[0m\u001b[0;34m\u001b[0m\u001b[0;34m\u001b[0m\u001b[0m\n",
      "\u001b[0;31mFileNotFoundError\u001b[0m: [Errno 2] No such file or directory: 'Table 2.csv'"
     ]
    }
   ],
   "source": [
    "table_1 = pd.read_csv(\"exports/Table 1.csv\", parse_dates = [0])\n",
    "table_2 = pd.read_csv(\"exports/Table 2.csv\", parse_dates = [0])\n",
    "table_3 = pd.read_csv(\"exports/Table 3.csv\", parse_dates = [0])\n",
    "table_4 = pd.read_csv(\"exports/Table 4.csv\", parse_dates = [0])\n",
    "table_5 = pd.read_csv(\"exports/Table 5.csv\", parse_dates = [0])\n",
    "table_6 = pd.read_csv(\"exports/Table 6.csv\", parse_dates = [0])"
   ]
  },
  {
   "cell_type": "code",
   "execution_count": null,
   "id": "7e49caff",
   "metadata": {},
   "outputs": [],
   "source": [
    "table_1['Full Date'] = table_1['Full Date'].dt.strftime('%Y-%m-%d')\n",
    "table_2['Full Date'] = table_2['Full Date'].dt.strftime('%Y-%m-%d')\n",
    "table_3['Full Date'] = table_3['Full Date'].dt.strftime('%Y-%m-%d')\n",
    "table_4['Full Date'] = table_4['Full Date'].dt.strftime('%Y-%m-%d')\n",
    "table_5['Full Date'] = table_5['Full Date'].dt.strftime('%Y-%m-%d')\n",
    "table_6['Full Date'] = table_6['Full Date'].dt.strftime('%Y-%m-%d')"
   ]
  },
  {
   "cell_type": "code",
   "execution_count": null,
   "id": "19384ca9",
   "metadata": {},
   "outputs": [],
   "source": [
    "#table_1.head()"
   ]
  },
  {
   "cell_type": "code",
   "execution_count": null,
   "id": "69c249df",
   "metadata": {},
   "outputs": [],
   "source": [
    "merged = pd.concat([table_1,table_2,table_3,table_4,table_5,table_6], axis=0)"
   ]
  },
  {
   "cell_type": "code",
   "execution_count": null,
   "id": "2969c6b7",
   "metadata": {},
   "outputs": [],
   "source": [
    "# Step one: fill in blanks for Tampa Bay"
   ]
  },
  {
   "cell_type": "code",
   "execution_count": null,
   "id": "5ee2e3a2",
   "metadata": {
    "scrolled": true
   },
   "outputs": [],
   "source": [
    "empty_locations = merged[merged.Latitude.isnull()]\n",
    "empty_locations"
   ]
  },
  {
   "cell_type": "code",
   "execution_count": null,
   "id": "5d5a5eb6",
   "metadata": {},
   "outputs": [],
   "source": [
    "#locations_list = ({'Franchise': ['Chicago', 'Green Bay', 'Arizona', 'Baltimore', 'Buffalo', 'Carolina', 'Cincinnati', 'Cleveland', 'Denver', 'Indianapolis', 'Jacksonville', 'Kansas City', 'Miami', 'New England', 'New York', 'Oakland', 'Philadelphia', 'Pittsburgh', 'St. Louis', 'San Diego', 'San Francisco', 'Seattle', 'Tampa Bay', 'Tennessee', 'Washington'], 'Latitude': [41.529998779296875, 44.29999923706055, 33.27000045776367, 39.16999816894531, 42.540000915527344, 35.13999938964844, 39.060001373291016, 41.29999923706055, 39.43000030517578, 39.459999084472656, 30.200000762939453, 39.060001373291016, 25.459999084472656, 42.209999084472656, 40.43000030517578, 37.470001220703125, 39.56999969482422, 40.2599983215332, 38.380001068115234, 32.43000030517578, 37.47999954223633, 47.36000061035156, 27.56999969482422, 36.09000015258789, 38.540000915527344], 'Longitude': [-87.37999725341797, -88.01000213623047, -112.05000305175781, -76.37000274658203, -78.52999877929688, -80.5, -84.30999755859375, -81.41000366210938, -105.01000213623047, -86.08999633789062, -81.4000015258789, -94.37000274658203, -80.12000274658203, -71.04000091552734, -74.01000213623047, -122.12999725341797, -75.06999969482422, -80.0, -90.11000061035156, -118.08999633789062, -122.23999786376953, -122.19999694824219, -82.2699966430664, -86.4800033569336, -77.01000213623047]})\n",
    "#locations = pd.DataFrame(locations_list)\n",
    "#locations = locations.round(2)\n"
   ]
  },
  {
   "cell_type": "code",
   "execution_count": null,
   "id": "5996bc17",
   "metadata": {},
   "outputs": [],
   "source": [
    "merged[\"Latitude\"] = merged[\"Latitude\"].fillna(27.57)\n",
    "merged[\"Longitude\"] = merged[\"Longitude\"].fillna(-82.27)"
   ]
  },
  {
   "cell_type": "code",
   "execution_count": null,
   "id": "34cd8cb4",
   "metadata": {},
   "outputs": [],
   "source": [
    "#merged.head(25)"
   ]
  },
  {
   "cell_type": "code",
   "execution_count": null,
   "id": "bd5bcc48",
   "metadata": {},
   "outputs": [],
   "source": [
    "# titans and other teams with blank rows/pulls"
   ]
  },
  {
   "cell_type": "code",
   "execution_count": null,
   "id": "7ef9f6b6",
   "metadata": {},
   "outputs": [],
   "source": [
    "#empty_pull = merged[merged.weatherDesc.isnull()]\n",
    "#empty_pull"
   ]
  },
  {
   "cell_type": "code",
   "execution_count": null,
   "id": "dc9031cf",
   "metadata": {},
   "outputs": [],
   "source": [
    "#empty_pull[[\"Starting Game Temp (F)\",\"weatherDesc\",\"cloudcover\"]] = empty_pull[[\"Starting Game Temp (F)\",\"weatherDesc\",\"cloudcover\"]].fillna(0)\n",
    "#empty_pull"
   ]
  },
  {
   "cell_type": "code",
   "execution_count": null,
   "id": "83078204",
   "metadata": {},
   "outputs": [],
   "source": [
    "#empty_pull[[\"Starting Game Temp (F)\",\"weatherDesc\",\"cloudcover\"]] = empty_pull[[\"Starting Game Temp (F)\",\"weatherDesc\",\"cloudcover\"]].astype(int)\n",
    "#empty_pull.dtypes"
   ]
  },
  {
   "cell_type": "code",
   "execution_count": null,
   "id": "6f8d70a4",
   "metadata": {},
   "outputs": [],
   "source": [
    "#empty_pull[\"Full Date\"] = empty_pull[\"Full Date\"].str.replace('/','-')\n",
    "#empty_pull[\"Full Date\"] = pd.to_datetime(empty_pull[\"Full Date\"], format=\"%Y-%m-%d\")\n",
    "#empty_pull"
   ]
  },
  {
   "cell_type": "code",
   "execution_count": null,
   "id": "b0494dca",
   "metadata": {},
   "outputs": [],
   "source": [
    "#test = \"http://api.worldweatheronline.com/premium/v1/past-weather.ashx?key=6cd0fcd19b014508966202712210906&q=36.09,-86.48&date=2008-09-21&tp=24&format=json\""
   ]
  },
  {
   "cell_type": "code",
   "execution_count": null,
   "id": "114a9e1f",
   "metadata": {},
   "outputs": [],
   "source": [
    "#base_url = \"http://api.worldweatheronline.com/premium/v1/past-weather.ashx?key=6cd0fcd19b014508966202712210906&q=36.09,-86.48&date=\"\n",
    "#for index, row in empty_pull.iterrows():\n",
    "#    try:\n",
    "#\n",
    " #       date = row[\"Full Date\"]\n",
    "  #      weather_url = f\"{base_url},{date}&tp=24&format=json\"\n",
    "   #     weather_info = requests.get(weather_url).json()\n",
    "    #    \n",
    "        #print(\"------------\")\n",
    "        #pprint(weather_info)\n",
    "        #print(\"------------\")\n",
    "        \n",
    "     #   empty_pull.loc[index, \"Starting Game Temp (F)\"] = weather_info['data']['weather'][0]['hourly'][0]['tempF']\n",
    "      #  empty_pull.loc[index, \"weatherDesc\"] = weather_info['data']['weather'][0]['hourly'][0]['weatherDesc']\n",
    "       # empty_pull.loc[index, \"cloudcover\"]= weather_info['data']['weather'][0]['hourly'][0]['cloudcover']\n",
    "        #\n",
    "        #print(\"------------\")\n",
    "        #print(weather_info)\n",
    "        #print(\"------------\")\n",
    "     #   T.sleep(.5)\n",
    "     #   print(date)\n",
    "   # except (KeyError,IndexError):\n",
    "   #     print(\"------------\")\n",
    "   #     print(\"interrupt asap\")\n",
    "   #     print(weather_url)\n",
    "   #     print(index)\n",
    "   #     print(\"------------\")\n",
    "   #     pass"
   ]
  },
  {
   "cell_type": "code",
   "execution_count": null,
   "id": "bea709f8",
   "metadata": {},
   "outputs": [],
   "source": [
    "#empty_pull"
   ]
  },
  {
   "cell_type": "code",
   "execution_count": null,
   "id": "a5e0c677",
   "metadata": {},
   "outputs": [],
   "source": [
    "# run API call last time for the blanks (mainly titans) - it will be for average of day."
   ]
  },
  {
   "cell_type": "code",
   "execution_count": null,
   "id": "f5e35e0f",
   "metadata": {},
   "outputs": [],
   "source": []
  },
  {
   "cell_type": "code",
   "execution_count": null,
   "id": "b8ae1be5",
   "metadata": {},
   "outputs": [],
   "source": [
    "#Step 3"
   ]
  },
  {
   "cell_type": "code",
   "execution_count": null,
   "id": "85eb8e26",
   "metadata": {},
   "outputs": [],
   "source": [
    "#merged"
   ]
  },
  {
   "cell_type": "code",
   "execution_count": null,
   "id": "c0f082ae",
   "metadata": {},
   "outputs": [],
   "source": [
    "# Step 4 remove duplicates\n",
    "merged = merged.drop_duplicates()\n",
    "#merged"
   ]
  },
  {
   "cell_type": "code",
   "execution_count": null,
   "id": "3b49bb15",
   "metadata": {},
   "outputs": [],
   "source": [
    "merged = merged.reset_index()\n",
    "#merged"
   ]
  },
  {
   "cell_type": "code",
   "execution_count": null,
   "id": "80606bdd",
   "metadata": {},
   "outputs": [],
   "source": [
    "#weather description\n",
    "merged[\"weatherDesc\"] = merged[\"weatherDesc\"].str.replace(\"{'value': '\",\"\")\n",
    "#merged"
   ]
  },
  {
   "cell_type": "code",
   "execution_count": null,
   "id": "0c46d8f9",
   "metadata": {},
   "outputs": [],
   "source": [
    "merged[\"weatherDesc\"] = merged[\"weatherDesc\"].str[:-2]\n",
    "#merged"
   ]
  },
  {
   "cell_type": "code",
   "execution_count": null,
   "id": "b668d003",
   "metadata": {},
   "outputs": [],
   "source": [
    "merged[\"cloudcover\"] = [str(x)+'%' for x in merged[\"cloudcover\"]]\n",
    "merged"
   ]
  },
  {
   "cell_type": "code",
   "execution_count": null,
   "id": "6792b142",
   "metadata": {},
   "outputs": [],
   "source": [
    "merged.rename(columns={\"Starting Game Temp (F)\":\"Kickoff_Temp\",\n",
    "                            \"weatherDesc\":\"Weather_Element\",\n",
    "                            \"cloudcover\":\"Cloudiness\",\n",
    "                           \"Time\":\"Kickoff_Time\"}, inplace=True)"
   ]
  },
  {
   "cell_type": "code",
   "execution_count": null,
   "id": "d2a3425b",
   "metadata": {},
   "outputs": [],
   "source": [
    "#merged.head()"
   ]
  },
  {
   "cell_type": "code",
   "execution_count": null,
   "id": "d6c3092a",
   "metadata": {},
   "outputs": [],
   "source": [
    "merged[\"Season\"] = merged[\"Full Date\"].str[0:4]\n",
    "merged[\"Month\"] = merged[\"Full Date\"].str[6:7]\n",
    "#merged"
   ]
  },
  {
   "cell_type": "code",
   "execution_count": null,
   "id": "5263a1f7",
   "metadata": {},
   "outputs": [],
   "source": [
    "dropped_df = merged[\n",
    "    [\"Season\",\"Month\",\"Week\",\"Kickoff Time\",\n",
    "     \"Winner\",\"Home Team\",\"City\",\"Kickoff Temp (F)\",\n",
    "     \"Weather Element\",\"Cloudiness\"]]\n"
   ]
  },
  {
   "cell_type": "code",
   "execution_count": null,
   "id": "b7d886de",
   "metadata": {},
   "outputs": [],
   "source": [
    "dropped_df = dropped_df.sort_index()"
   ]
  },
  {
   "cell_type": "code",
   "execution_count": null,
   "id": "a36a67a2",
   "metadata": {},
   "outputs": [],
   "source": [
    "dropped_df[\"Stadium Location\"] =\"(\" + merged[\"Latitude\"].astype(str) + \", \" + merged[\"Longitude\"].astype(str) + \")\""
   ]
  },
  {
   "cell_type": "code",
   "execution_count": null,
   "id": "93ac5a87",
   "metadata": {},
   "outputs": [],
   "source": [
    "new_df = dropped_df\n",
    "#new_df"
   ]
  },
  {
   "cell_type": "code",
   "execution_count": null,
   "id": "ba67dbf5",
   "metadata": {},
   "outputs": [],
   "source": [
    "city= ['Chicago', 'Green Bay', 'Arizona', 'Baltimore', 'Buffalo', \n",
    "      'Carolina', 'Cincinnati','Cleveland', 'Denver', \n",
    "      'Indianapolis', 'Jacksonville', 'Kansas City',\n",
    "      'Miami', 'New England', 'New York', 'Oakland', 'Philadelphia',\n",
    "      'Pittsburgh', 'St. Louis', 'San Diego', 'San Francisco', \n",
    "      'Seattle', 'Tampa Bay', 'Tennessee', 'Washington']\n"
   ]
  },
  {
   "cell_type": "code",
   "execution_count": null,
   "id": "31df8304",
   "metadata": {},
   "outputs": [],
   "source": [
    "# copy locations dictionary from other notebook\n",
    "# locations_list = ({'Franchise': ['Chicago', 'Green Bay', 'Arizona', 'Baltimore', 'Buffalo', 'Carolina', 'Cincinnati', 'Cleveland', 'Denver', 'Indianapolis', 'Jacksonville', 'Kansas City', 'Miami', 'New England', 'New York', 'Oakland', 'Philadelphia', 'Pittsburgh', 'St. Louis', 'San Diego', 'San Francisco', 'Seattle', 'Tampa Bay', 'Tennessee', 'Washington'], 'Latitude': [41.529998779296875, 44.29999923706055, 33.27000045776367, 39.16999816894531, 42.540000915527344, 35.13999938964844, 39.060001373291016, 41.29999923706055, 39.43000030517578, 39.459999084472656, 30.200000762939453, 39.060001373291016, 25.459999084472656, 42.209999084472656, 40.43000030517578, 37.470001220703125, 39.56999969482422, 40.2599983215332, 38.380001068115234, 32.43000030517578, 37.47999954223633, 47.36000061035156, 27.56999969482422, 36.09000015258789, 38.540000915527344], 'Longitude': [-87.37999725341797, -88.01000213623047, -112.05000305175781, -76.37000274658203, -78.52999877929688, -80.5, -84.30999755859375, -81.41000366210938, -105.01000213623047, -86.08999633789062, -81.4000015258789, -94.37000274658203, -80.12000274658203, -71.04000091552734, -74.01000213623047, -122.12999725341797, -75.06999969482422, -80.0, -90.11000061035156, -118.08999633789062, -122.23999786376953, -122.19999694824219, -82.2699966430664, -86.4800033569336, -77.01000213623047]})\n"
   ]
  },
  {
   "cell_type": "code",
   "execution_count": null,
   "id": "f79503f7",
   "metadata": {},
   "outputs": [],
   "source": [
    "# Stadium df\n",
    "url = 'https://simple.wikipedia.org/wiki/List_of_National_Football_League_stadiums'\n",
    "scrape = pd.read_html(url)\n",
    "#type(scrape)\n",
    "#scrape\n",
    "stadium_scrape = scrape[1]"
   ]
  },
  {
   "cell_type": "code",
   "execution_count": null,
   "id": "b0f21caf",
   "metadata": {},
   "outputs": [],
   "source": [
    "stadium_name = stadium_scrape[[\"Stadium\",\"City\",\"Home teams\"]]\n",
    "#stadium_name"
   ]
  },
  {
   "cell_type": "code",
   "execution_count": null,
   "id": "38b6d9d1",
   "metadata": {},
   "outputs": [],
   "source": [
    "stadium_list = ['Soldier Field','Lambeau Field','State Farm Stadium','M&T Bank Stadium','New Era Field',\n",
    "           'Bank of America Stadium','Paul Brown Stadium','FirstEnergy Stadium','Empower Field at Mile High',\n",
    "           'Lucas Oil Stadium','TIAA Bank Field','Arrowhead Stadium',\n",
    "          'Hard Rock Stadium','Gillette Stadium','MetLife Stadium','Oakland Coliseum(*)','Lincoln Financial Field',\n",
    "          'Heinz Field','Edward Jones Dome','Qualcomm Stadium','Levis Stadium',\n",
    "          'Lumen Field','Raymond James Stadium','Nissan Stadium','FedEx Field']\n",
    "\n"
   ]
  },
  {
   "cell_type": "code",
   "execution_count": null,
   "id": "06a01323",
   "metadata": {},
   "outputs": [],
   "source": [
    "stadium_dict = {'City':city,\n",
    "                'Stadium':stadium_list\n",
    "               }\n",
    "stadium_dict\n",
    "stadium_df = pd.DataFrame(stadium_dict)\n",
    "#stadium_df"
   ]
  },
  {
   "cell_type": "code",
   "execution_count": null,
   "id": "15ab4b61",
   "metadata": {},
   "outputs": [],
   "source": [
    "merged_stadium = pd.merge(left=new_df, right=stadium_df, how='left', left_on=\"City\", right_on=\"City\")\n",
    "merged_stadium"
   ]
  },
  {
   "cell_type": "code",
   "execution_count": null,
   "id": "1449354f",
   "metadata": {},
   "outputs": [],
   "source": [
    "Dataset_df = merged_stadium"
   ]
  },
  {
   "cell_type": "code",
   "execution_count": null,
   "id": "3444780d",
   "metadata": {},
   "outputs": [],
   "source": [
    "# turn into JSON\n",
    "Dataset_json = Dataset_df.to_json('Table.json',orient = \"index\")\n",
    "display_json = Dataset_df.to_json(orient = \"records\")\n",
    "#Dataset_json"
   ]
  },
  {
   "cell_type": "code",
   "execution_count": null,
   "id": "37170313",
   "metadata": {},
   "outputs": [],
   "source": [
    "pprint(display_json)"
   ]
  },
  {
   "cell_type": "code",
   "execution_count": null,
   "id": "6b8b73c4",
   "metadata": {},
   "outputs": [],
   "source": [
    "conn = \"mongodb://localhost:27017\"\n",
    "client = pymongo.MongoClient(conn)"
   ]
  },
  {
   "cell_type": "code",
   "execution_count": null,
   "id": "8496aa3a",
   "metadata": {},
   "outputs": [],
   "source": [
    "db = client.Dataset_df\n",
    "collection = db.Dataset_df\n",
    "data = json.loads(Dataset_json)\n",
    "collection.insert_many(data)\n",
    "cursor = list(collection.find({}))\n",
    "for document in cursor:\n",
    "    print(document)"
   ]
  },
  {
   "cell_type": "code",
   "execution_count": null,
   "id": "c6923295",
   "metadata": {},
   "outputs": [],
   "source": []
  },
  {
   "cell_type": "code",
   "execution_count": null,
   "id": "5a599b7d",
   "metadata": {},
   "outputs": [],
   "source": []
  },
  {
   "cell_type": "code",
   "execution_count": null,
   "id": "a04639ec",
   "metadata": {},
   "outputs": [],
   "source": []
  },
  {
   "cell_type": "code",
   "execution_count": null,
   "id": "fe9bc0fc",
   "metadata": {},
   "outputs": [],
   "source": []
  },
  {
   "cell_type": "code",
   "execution_count": null,
   "id": "42c651b9",
   "metadata": {},
   "outputs": [],
   "source": []
  },
  {
   "cell_type": "code",
   "execution_count": null,
   "id": "e54e5834",
   "metadata": {},
   "outputs": [],
   "source": []
  },
  {
   "cell_type": "code",
   "execution_count": null,
   "id": "b2fe9fb6",
   "metadata": {},
   "outputs": [],
   "source": []
  }
 ],
 "metadata": {
  "kernelspec": {
   "display_name": "Python 3",
   "language": "python",
   "name": "python3"
  },
  "language_info": {
   "codemirror_mode": {
    "name": "ipython",
    "version": 3
   },
   "file_extension": ".py",
   "mimetype": "text/x-python",
   "name": "python",
   "nbconvert_exporter": "python",
   "pygments_lexer": "ipython3",
   "version": "3.8.8"
  }
 },
 "nbformat": 4,
 "nbformat_minor": 5
}
