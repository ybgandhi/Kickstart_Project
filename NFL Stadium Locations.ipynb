{
 "cells": [
  {
   "cell_type": "code",
   "execution_count": null,
   "id": "ae9ccb6d",
   "metadata": {},
   "outputs": [],
   "source": [
    "# Dependencies\n",
    "import pandas as pd"
   ]
  },
  {
   "cell_type": "code",
   "execution_count": null,
   "id": "924f3790",
   "metadata": {},
   "outputs": [],
   "source": [
    "# ser url variable from where the library will scrape data from\n",
    "url = 'https://sites.google.com/site/32nflteamsabsoluteandrelative/'"
   ]
  },
  {
   "cell_type": "code",
   "execution_count": null,
   "id": "01f5028d",
   "metadata": {},
   "outputs": [],
   "source": [
    "scrape = pd.read_html(url)\n",
    "scrape"
   ]
  },
  {
   "cell_type": "code",
   "execution_count": null,
   "id": "7293dd3f",
   "metadata": {},
   "outputs": [],
   "source": [
    "type(scrape)"
   ]
  },
  {
   "cell_type": "code",
   "execution_count": null,
   "id": "ad6b3808",
   "metadata": {},
   "outputs": [],
   "source": [
    "df = scrape[1]\n",
    "df.head()"
   ]
  },
  {
   "cell_type": "code",
   "execution_count": null,
   "id": "26da761d",
   "metadata": {},
   "outputs": [],
   "source": [
    "# remove first row\n",
    "df_drop_first_row = df.iloc[1:]\n",
    "df_drop_first_row.head()"
   ]
  },
  {
   "cell_type": "code",
   "execution_count": null,
   "id": "5f6882c1",
   "metadata": {},
   "outputs": [],
   "source": [
    "# remove last row\n",
    "df_drop_last_row = df_drop_first_row[:-1]\n",
    "df_drop_last_row.head()"
   ]
  },
  {
   "cell_type": "code",
   "execution_count": null,
   "id": "f99c4c02",
   "metadata": {},
   "outputs": [],
   "source": [
    "# remove last column\n",
    "df_drop_last_col = df_drop_last_row.drop([3], axis=1)\n",
    "df_drop_last_col = df_drop_last_col.reset_index()\n",
    "df_drop_last_col.head()"
   ]
  },
  {
   "cell_type": "code",
   "execution_count": null,
   "id": "cdcc39b9",
   "metadata": {},
   "outputs": [],
   "source": [
    "# elevate first row to headers\n",
    "new_header = df_drop_last_col.iloc[0]\n",
    "new_df = df_drop_last_col[1:]\n",
    "new_df.columns = new_header\n",
    "new_df.head()"
   ]
  },
  {
   "cell_type": "code",
   "execution_count": null,
   "id": "ef31f99f",
   "metadata": {},
   "outputs": [],
   "source": [
    "# remove first column and reset index\n",
    "new_df = new_df.drop([1],axis=1)\n",
    "new_df.head()"
   ]
  },
  {
   "cell_type": "code",
   "execution_count": null,
   "id": "4a01fa79",
   "metadata": {},
   "outputs": [],
   "source": [
    "# reset table index\n",
    "new_df = new_df.reset_index()\n",
    "new_df = new_df[[\"Franchise\",\"Latitude\",\"Longitude\"]]\n",
    "new_df.head()"
   ]
  },
  {
   "cell_type": "code",
   "execution_count": null,
   "id": "a49dd8dc",
   "metadata": {},
   "outputs": [],
   "source": [
    "# drop new york giants (duplicate) since the Jets already play in New York\n",
    "# drop all the indoor stadiums"
   ]
  },
  {
   "cell_type": "code",
   "execution_count": null,
   "id": "f33a94b2",
   "metadata": {},
   "outputs": [],
   "source": [
    "locations = new_df.drop([new_df.index[3],new_df.index[9],new_df.index[20],new_df.index[19],new_df.index[17],new_df.index[11],new_df.index[12]])\n",
    "locations"
   ]
  },
  {
   "cell_type": "code",
   "execution_count": null,
   "id": "dc50711b",
   "metadata": {},
   "outputs": [],
   "source": [
    "# replace New York Jets with just New York\n",
    "locations = locations.replace(to_replace=\"New York Jets\", value=\"New York\")"
   ]
  },
  {
   "cell_type": "code",
   "execution_count": null,
   "id": "22106d09",
   "metadata": {},
   "outputs": [],
   "source": [
    "# replace Saint Louis with just St. Louis\n",
    "locations = locations.replace(to_replace=\"Saint Louis\", value=\"St. Louis\")"
   ]
  },
  {
   "cell_type": "code",
   "execution_count": null,
   "id": "a9767f86",
   "metadata": {},
   "outputs": [],
   "source": [
    "locations = locations.reset_index()\n",
    "locations"
   ]
  },
  {
   "cell_type": "code",
   "execution_count": null,
   "id": "695b1013",
   "metadata": {},
   "outputs": [],
   "source": [
    "# remove the first column index as it is no longer of any value\n",
    "locations = locations[[\"Franchise\",\"Latitude\",\"Longitude\"]]"
   ]
  },
  {
   "cell_type": "code",
   "execution_count": null,
   "id": "ca241583",
   "metadata": {},
   "outputs": [],
   "source": [
    "locations"
   ]
  },
  {
   "cell_type": "code",
   "execution_count": null,
   "id": "85535352",
   "metadata": {},
   "outputs": [],
   "source": [
    "# export table to csv\n",
    "locations.to_csv(\"NFL_Locations.csv\",encoding=\"utf-8\",index=False)"
   ]
  },
  {
   "cell_type": "code",
   "execution_count": null,
   "id": "d8526030",
   "metadata": {},
   "outputs": [],
   "source": [
    "#new_df.to_html('NFL_Stadium_Locations.html')\n",
    "#!open NFL_Stadium_Locations.html"
   ]
  },
  {
   "cell_type": "code",
   "execution_count": null,
   "id": "b8b7d60b",
   "metadata": {},
   "outputs": [],
   "source": []
  },
  {
   "cell_type": "code",
   "execution_count": null,
   "id": "6b9e026b",
   "metadata": {},
   "outputs": [],
   "source": []
  },
  {
   "cell_type": "code",
   "execution_count": null,
   "id": "b16a72d3",
   "metadata": {},
   "outputs": [],
   "source": []
  },
  {
   "cell_type": "code",
   "execution_count": null,
   "id": "d44a48d1",
   "metadata": {},
   "outputs": [],
   "source": []
  }
 ],
 "metadata": {
  "kernelspec": {
   "display_name": "Python 3",
   "language": "python",
   "name": "python3"
  },
  "language_info": {
   "codemirror_mode": {
    "name": "ipython",
    "version": 3
   },
   "file_extension": ".py",
   "mimetype": "text/x-python",
   "name": "python",
   "nbconvert_exporter": "python",
   "pygments_lexer": "ipython3",
   "version": "3.8.8"
  }
 },
 "nbformat": 4,
 "nbformat_minor": 5
}
